{
 "cells": [
  {
   "cell_type": "code",
   "execution_count": null,
   "metadata": {},
   "outputs": [],
   "source": [
    "from CDM_DataSetMaker_ops import get_conn\n",
    "from RETAIN_Dataset import convert_transaction_to_seq\n",
    "\n",
    "conn = get_conn('./DB_connection.txt')\n",
    "#T_seq = convert_transaction_to_seq(conn, 'condition_concept_id', 'HF_T_dx.pkl')\n",
    "#C_seq = convert_transaction_to_seq(conn, 'condition_concept_id', 'HF_C_dx.pkl')"
   ]
  },
  {
   "cell_type": "code",
   "execution_count": 1,
   "metadata": {
    "scrolled": true
   },
   "outputs": [
    {
     "name": "stdout",
     "output_type": "stream",
     "text": [
      "Loading at.. ./HF_T_dx.pkl\n",
      "Loading at.. ./HF_C_dx.pkl\n"
     ]
    },
    {
     "data": {
      "text/plain": [
       "(22548, 85011)"
      ]
     },
     "execution_count": 1,
     "metadata": {},
     "output_type": "execute_result"
    }
   ],
   "source": [
    "from CDM_DataSetMaker_ops import loadingFiles\n",
    "\n",
    "T_seq = loadingFiles('./', 'HF_T_dx.pkl')\n",
    "C_seq = loadingFiles('./', 'HF_C_dx.pkl')\n",
    "\n",
    "len(T_seq), len(C_seq)"
   ]
  },
  {
   "cell_type": "code",
   "execution_count": 3,
   "metadata": {},
   "outputs": [
    {
     "name": "stdout",
     "output_type": "stream",
     "text": [
      "code_size:  5088\n"
     ]
    }
   ],
   "source": [
    "from RETAIN_Dataset_Final import truncated_data, code_to_id\n",
    "\n",
    "HF_T_cut = truncated_data(T_seq, cut_num=2)\n",
    "HF_C_cut = truncated_data(C_seq, cut_num=2)\n",
    "HF_code_dict, max_visit_size = code_to_id(HF_T_cut+HF_C_cut)"
   ]
  },
  {
   "cell_type": "code",
   "execution_count": 4,
   "metadata": {},
   "outputs": [],
   "source": [
    "from RETAIN_Dataset_Final import RETAIN_datasets\n",
    "\n",
    "datasets = RETAIN_datasets(HF_T_cut, HF_C_cut, HF_code_dict, max_visit_size)"
   ]
  },
  {
   "cell_type": "code",
   "execution_count": 6,
   "metadata": {},
   "outputs": [],
   "source": [
    "import tensorflow as tf"
   ]
  },
  {
   "cell_type": "code",
   "execution_count": 7,
   "metadata": {},
   "outputs": [],
   "source": [
    "batch_size = 10\n",
    "time_size = max_visit_size\n",
    "code_size = len(HF_code_dict)\n",
    "label_size = 2\n",
    "lr_init = 0.0001\n",
    "decay_step = 2000\n",
    "decay_rate = 0.9\n",
    "training_step = 5000\n",
    "printby = 100\n",
    "\n",
    "hidden_size_alpha = 128\n",
    "hidden_size_beta = 128"
   ]
  },
  {
   "cell_type": "code",
   "execution_count": 8,
   "metadata": {},
   "outputs": [],
   "source": [
    "import tensorflow as tf\n",
    "\n",
    "def sequence_masking(data, visit_times):\n",
    "    masking = tf.tile(tf.reshape(tf.sequence_mask(visit_times, data.shape[1]), shape=[-1,data.shape[1],1]), [1,1,data.shape[2]])\n",
    "    return tf.where(masking, data, tf.zeros_like(data))"
   ]
  },
  {
   "cell_type": "code",
   "execution_count": 9,
   "metadata": {},
   "outputs": [],
   "source": [
    "inputs = tf.placeholder(tf.float32, shape=[None, time_size, code_size])\n",
    "labels = tf.placeholder(tf.float32, shape=[None, time_size, label_size])\n",
    "visit_times = tf.placeholder(tf.float32, shape=[None])\n",
    "global_step = tf.Variable(0, trainable=False, dtype=tf.int32)\n",
    "lr = tf.train.exponential_decay(lr_init, global_step, decay_step, decay_rate, staircase=True)\n",
    "\n",
    "##embedding\n",
    "\n",
    "##alpha\n",
    "W_alpha = tf.Variable(tf.random_normal(shape=[hidden_size_alpha, 1], name='W_alpha'))\n",
    "b_alpha = tf.Variable(tf.random_normal(shape=[], name='b_alpha'))\n",
    "with tf.variable_scope('alpha'):\n",
    "    cells_alpha = tf.nn.rnn_cell.MultiRNNCell([tf.nn.rnn_cell.LSTMCell(hidden_size_alpha)])\n",
    "    outputs_alpha, states_alpha = tf.nn.dynamic_rnn(cells_alpha, inputs, visit_times, dtype=tf.float32)\n",
    "    reshaped_outputs_alpha = tf.reshape(outputs_alpha, shape=[-1, hidden_size_alpha])\n",
    "    matmuled_alpha = tf.matmul(reshaped_outputs_alpha, W_alpha) + tf.expand_dims(b_alpha, 0)\n",
    "    reshaped_matmuled_alpha = tf.reshape(matmuled_alpha, shape=[-1, time_size, 1])\n",
    "    logits_alpha = tf.nn.softmax(reshaped_matmuled_alpha, 1)\n",
    "    \n",
    "##Beta\n",
    "W_beta = tf.Variable(tf.random_normal(shape=[hidden_size_beta, code_size]))\n",
    "b_beta = tf.Variable(tf.random_normal(shape=[code_size]))\n",
    "with tf.variable_scope('beta'):\n",
    "    cells_beta = tf.nn.rnn_cell.MultiRNNCell([tf.nn.rnn_cell.LSTMCell(hidden_size_beta)])\n",
    "    outputs_beta, states_beta = tf.nn.dynamic_rnn(cells_beta, inputs, visit_times, dtype=tf.float32)\n",
    "    reshaped_outputs_beta = tf.reshape(outputs_beta, shape=[-1, hidden_size_beta])\n",
    "    matmuled_ouputs_beta = tf.matmul(reshaped_outputs_beta, W_beta) + tf.expand_dims(b_beta, 0)\n",
    "    reshaped_matmuled_beta = tf.reshape(matmuled_ouputs_beta, shape=[-1, time_size, code_size])\n",
    "    logits_beta = tf.nn.tanh(reshaped_matmuled_beta)\n",
    "    \n",
    "##unifiy\n",
    "W_s = tf.Variable(tf.random_normal(shape=[code_size, label_size]))\n",
    "b_s = tf.Variable(tf.random_normal(shape=[label_size]))\n",
    "unified_context = logits_alpha*logits_beta*inputs\n",
    "context_vec = []\n",
    "for b in range(batch_size):\n",
    "    pid_seq = unified_context[b]\n",
    "    for t in range(time_size):\n",
    "        context_vec.append(tf.reduce_sum(pid_seq[:t+1, :], axis=0))\n",
    "reshaped_context_vec = tf.reshape(context_vec, shape=[-1, code_size])\n",
    "mlp_context_vec = tf.matmul(reshaped_context_vec, W_s) + b_s\n",
    "logits = tf.nn.softmax(tf.reshape(mlp_context_vec, shape=[-1, time_size, label_size]))\n",
    "masked_logits = sequence_masking(logits, visit_times)\n",
    "masked_labels = sequence_masking(labels, visit_times)\n",
    "\n",
    "##Loss function\n",
    "loss_per_times = tf.reduce_sum(masked_labels*tf.log(masked_logits+1e-10)+(1-masked_labels)*tf.log(1-masked_logits+1e-10), axis=-1)\n",
    "loss_per_pid = tf.reduce_sum(loss_per_times, axis=-1)*(1/visit_times)\n",
    "last_loss = -tf.reduce_sum(loss_per_pid)*(1/batch_size)\n",
    "optimizer = tf.train.AdamOptimizer(learning_rate=lr).minimize(last_loss, global_step=global_step)\n",
    "\n",
    "##accuracy\n",
    "#argmax_logits = tf.argmax(tf.reshape(masked_logits, shape=[-1,label_size]), axis=1)\n",
    "#argmax_labels = tf.argmax(tf.reshape(masked_labels, shape=[-1,label_size]), axis=1)\n",
    "#compared = tf.cast(tf.equal(argmax_logits, argmax_labels), tf.float32)\n",
    "#accuracy = tf.reduce_mean(compared, axis=0)"
   ]
  },
  {
   "cell_type": "code",
   "execution_count": 10,
   "metadata": {
    "scrolled": false
   },
   "outputs": [
    {
     "name": "stderr",
     "output_type": "stream",
     "text": [
      "  0%|          | 1/5000 [00:15<21:42:22, 15.63s/it]"
     ]
    },
    {
     "name": "stdout",
     "output_type": "stream",
     "text": [
      "step: 0 \tg_step: 1 \tloss: 1.99769711||1.99877012 \tlr: 0.00010000||0.00010000\n"
     ]
    },
    {
     "name": "stderr",
     "output_type": "stream",
     "text": [
      "  2%|▏         | 101/5000 [03:31<2:46:59,  2.05s/it]"
     ]
    },
    {
     "name": "stdout",
     "output_type": "stream",
     "text": [
      "step: 100 \tg_step: 101 \tloss: 1.89812469||1.67480361 \tlr: 0.00010000||0.00010000\n"
     ]
    },
    {
     "name": "stderr",
     "output_type": "stream",
     "text": [
      "  4%|▍         | 201/5000 [06:59<2:50:40,  2.13s/it]"
     ]
    },
    {
     "name": "stdout",
     "output_type": "stream",
     "text": [
      "step: 200 \tg_step: 201 \tloss: 1.79567468||1.80279469 \tlr: 0.00010000||0.00010000\n"
     ]
    },
    {
     "name": "stderr",
     "output_type": "stream",
     "text": [
      "  6%|▌         | 301/5000 [10:41<1:50:31,  1.41s/it]"
     ]
    },
    {
     "name": "stdout",
     "output_type": "stream",
     "text": [
      "step: 300 \tg_step: 301 \tloss: 1.66762090||1.58036315 \tlr: 0.00010000||0.00010000\n"
     ]
    },
    {
     "name": "stderr",
     "output_type": "stream",
     "text": [
      "  8%|▊         | 401/5000 [12:37<1:26:48,  1.13s/it]"
     ]
    },
    {
     "name": "stdout",
     "output_type": "stream",
     "text": [
      "step: 400 \tg_step: 401 \tloss: 1.70145607||1.72361624 \tlr: 0.00010000||0.00010000\n"
     ]
    },
    {
     "name": "stderr",
     "output_type": "stream",
     "text": [
      " 10%|█         | 501/5000 [14:47<1:45:18,  1.40s/it]"
     ]
    },
    {
     "name": "stdout",
     "output_type": "stream",
     "text": [
      "step: 500 \tg_step: 501 \tloss: 1.79997313||1.91070139 \tlr: 0.00010000||0.00010000\n"
     ]
    },
    {
     "name": "stderr",
     "output_type": "stream",
     "text": [
      " 12%|█▏        | 601/5000 [16:48<1:19:11,  1.08s/it]"
     ]
    },
    {
     "name": "stdout",
     "output_type": "stream",
     "text": [
      "step: 600 \tg_step: 601 \tloss: 1.59327829||1.74896896 \tlr: 0.00010000||0.00010000\n"
     ]
    },
    {
     "name": "stderr",
     "output_type": "stream",
     "text": [
      " 14%|█▍        | 701/5000 [18:54<1:19:03,  1.10s/it]"
     ]
    },
    {
     "name": "stdout",
     "output_type": "stream",
     "text": [
      "step: 700 \tg_step: 701 \tloss: 1.75692487||1.69954395 \tlr: 0.00010000||0.00010000\n"
     ]
    },
    {
     "name": "stderr",
     "output_type": "stream",
     "text": [
      " 16%|█▌        | 801/5000 [21:01<1:19:33,  1.14s/it]"
     ]
    },
    {
     "name": "stdout",
     "output_type": "stream",
     "text": [
      "step: 800 \tg_step: 801 \tloss: 1.42976344||1.42537200 \tlr: 0.00010000||0.00010000\n"
     ]
    },
    {
     "name": "stderr",
     "output_type": "stream",
     "text": [
      " 18%|█▊        | 901/5000 [23:08<1:46:37,  1.56s/it]"
     ]
    },
    {
     "name": "stdout",
     "output_type": "stream",
     "text": [
      "step: 900 \tg_step: 901 \tloss: 1.52297723||1.60267150 \tlr: 0.00010000||0.00010000\n"
     ]
    },
    {
     "name": "stderr",
     "output_type": "stream",
     "text": [
      " 20%|██        | 1001/5000 [25:16<1:24:29,  1.27s/it]"
     ]
    },
    {
     "name": "stdout",
     "output_type": "stream",
     "text": [
      "step: 1000 \tg_step: 1001 \tloss: 1.47337866||1.35142922 \tlr: 0.00010000||0.00010000\n"
     ]
    },
    {
     "name": "stderr",
     "output_type": "stream",
     "text": [
      " 22%|██▏       | 1101/5000 [27:36<1:07:10,  1.03s/it]"
     ]
    },
    {
     "name": "stdout",
     "output_type": "stream",
     "text": [
      "step: 1100 \tg_step: 1101 \tloss: 1.35895157||1.65223849 \tlr: 0.00010000||0.00010000\n"
     ]
    },
    {
     "name": "stderr",
     "output_type": "stream",
     "text": [
      " 24%|██▍       | 1201/5000 [29:23<1:07:15,  1.06s/it]"
     ]
    },
    {
     "name": "stdout",
     "output_type": "stream",
     "text": [
      "step: 1200 \tg_step: 1201 \tloss: 0.91588134||1.23868358 \tlr: 0.00010000||0.00010000\n"
     ]
    },
    {
     "name": "stderr",
     "output_type": "stream",
     "text": [
      " 26%|██▌       | 1301/5000 [31:08<1:04:24,  1.04s/it]"
     ]
    },
    {
     "name": "stdout",
     "output_type": "stream",
     "text": [
      "step: 1300 \tg_step: 1301 \tloss: 1.46372592||1.42363763 \tlr: 0.00010000||0.00010000\n"
     ]
    },
    {
     "name": "stderr",
     "output_type": "stream",
     "text": [
      " 28%|██▊       | 1401/5000 [32:52<58:09,  1.03it/s]  "
     ]
    },
    {
     "name": "stdout",
     "output_type": "stream",
     "text": [
      "step: 1400 \tg_step: 1401 \tloss: 1.52195442||1.24954116 \tlr: 0.00010000||0.00010000\n"
     ]
    },
    {
     "name": "stderr",
     "output_type": "stream",
     "text": [
      " 30%|███       | 1501/5000 [34:27<56:38,  1.03it/s]"
     ]
    },
    {
     "name": "stdout",
     "output_type": "stream",
     "text": [
      "step: 1500 \tg_step: 1501 \tloss: 1.66251719||1.24035144 \tlr: 0.00010000||0.00010000\n"
     ]
    },
    {
     "name": "stderr",
     "output_type": "stream",
     "text": [
      " 32%|███▏      | 1601/5000 [36:03<53:14,  1.06it/s]"
     ]
    },
    {
     "name": "stdout",
     "output_type": "stream",
     "text": [
      "step: 1600 \tg_step: 1601 \tloss: 1.37759578||2.01947284 \tlr: 0.00010000||0.00010000\n"
     ]
    },
    {
     "name": "stderr",
     "output_type": "stream",
     "text": [
      " 34%|███▍      | 1701/5000 [37:38<52:59,  1.04it/s]"
     ]
    },
    {
     "name": "stdout",
     "output_type": "stream",
     "text": [
      "step: 1700 \tg_step: 1701 \tloss: 1.39490819||1.19160616 \tlr: 0.00010000||0.00010000\n"
     ]
    },
    {
     "name": "stderr",
     "output_type": "stream",
     "text": [
      " 36%|███▌      | 1801/5000 [39:15<51:35,  1.03it/s]"
     ]
    },
    {
     "name": "stdout",
     "output_type": "stream",
     "text": [
      "step: 1800 \tg_step: 1801 \tloss: 1.23980069||1.56520557 \tlr: 0.00010000||0.00010000\n"
     ]
    },
    {
     "name": "stderr",
     "output_type": "stream",
     "text": [
      " 38%|███▊      | 1901/5000 [40:52<57:48,  1.12s/it]"
     ]
    },
    {
     "name": "stdout",
     "output_type": "stream",
     "text": [
      "step: 1900 \tg_step: 1901 \tloss: 1.11794150||1.24098384 \tlr: 0.00010000||0.00010000\n"
     ]
    },
    {
     "name": "stderr",
     "output_type": "stream",
     "text": [
      " 40%|████      | 2001/5000 [42:35<54:15,  1.09s/it]  "
     ]
    },
    {
     "name": "stdout",
     "output_type": "stream",
     "text": [
      "step: 2000 \tg_step: 2001 \tloss: 1.25467741||1.34303081 \tlr: 0.00009000||0.00009000\n"
     ]
    },
    {
     "name": "stderr",
     "output_type": "stream",
     "text": [
      " 42%|████▏     | 2101/5000 [44:14<44:39,  1.08it/s]  "
     ]
    },
    {
     "name": "stdout",
     "output_type": "stream",
     "text": [
      "step: 2100 \tg_step: 2101 \tloss: 1.04498732||1.23604882 \tlr: 0.00009000||0.00009000\n"
     ]
    },
    {
     "name": "stderr",
     "output_type": "stream",
     "text": [
      " 44%|████▍     | 2201/5000 [1:49:01<57:42,  1.24s/it]     "
     ]
    },
    {
     "name": "stdout",
     "output_type": "stream",
     "text": [
      "step: 2200 \tg_step: 2201 \tloss: 1.07140386||1.47322738 \tlr: 0.00009000||0.00009000\n"
     ]
    },
    {
     "name": "stderr",
     "output_type": "stream",
     "text": [
      " 46%|████▌     | 2301/5000 [1:50:49<43:58,  1.02it/s]  "
     ]
    },
    {
     "name": "stdout",
     "output_type": "stream",
     "text": [
      "step: 2300 \tg_step: 2301 \tloss: 1.25367332||1.02968776 \tlr: 0.00009000||0.00009000\n"
     ]
    },
    {
     "name": "stderr",
     "output_type": "stream",
     "text": [
      " 48%|████▊     | 2401/5000 [1:52:27<40:11,  1.08it/s]"
     ]
    },
    {
     "name": "stdout",
     "output_type": "stream",
     "text": [
      "step: 2400 \tg_step: 2401 \tloss: 1.33088779||1.40118814 \tlr: 0.00009000||0.00009000\n"
     ]
    },
    {
     "name": "stderr",
     "output_type": "stream",
     "text": [
      " 50%|█████     | 2501/5000 [1:54:01<38:52,  1.07it/s]"
     ]
    },
    {
     "name": "stdout",
     "output_type": "stream",
     "text": [
      "step: 2500 \tg_step: 2501 \tloss: 1.37283647||0.99650210 \tlr: 0.00009000||0.00009000\n"
     ]
    },
    {
     "name": "stderr",
     "output_type": "stream",
     "text": [
      " 52%|█████▏    | 2601/5000 [1:55:34<37:17,  1.07it/s]"
     ]
    },
    {
     "name": "stdout",
     "output_type": "stream",
     "text": [
      "step: 2600 \tg_step: 2601 \tloss: 0.88528758||1.26110280 \tlr: 0.00009000||0.00009000\n"
     ]
    },
    {
     "name": "stderr",
     "output_type": "stream",
     "text": [
      " 54%|█████▍    | 2701/5000 [1:57:08<36:16,  1.06it/s]"
     ]
    },
    {
     "name": "stdout",
     "output_type": "stream",
     "text": [
      "step: 2700 \tg_step: 2701 \tloss: 1.01687741||1.40590405 \tlr: 0.00009000||0.00009000\n"
     ]
    },
    {
     "name": "stderr",
     "output_type": "stream",
     "text": [
      " 56%|█████▌    | 2801/5000 [1:58:42<34:14,  1.07it/s]"
     ]
    },
    {
     "name": "stdout",
     "output_type": "stream",
     "text": [
      "step: 2800 \tg_step: 2801 \tloss: 1.43964136||1.20703864 \tlr: 0.00009000||0.00009000\n"
     ]
    },
    {
     "name": "stderr",
     "output_type": "stream",
     "text": [
      " 58%|█████▊    | 2901/5000 [2:00:16<33:39,  1.04it/s]"
     ]
    },
    {
     "name": "stdout",
     "output_type": "stream",
     "text": [
      "step: 2900 \tg_step: 2901 \tloss: 1.16059637||1.64979100 \tlr: 0.00009000||0.00009000\n"
     ]
    },
    {
     "name": "stderr",
     "output_type": "stream",
     "text": [
      " 60%|██████    | 3001/5000 [2:02:03<34:23,  1.03s/it]"
     ]
    },
    {
     "name": "stdout",
     "output_type": "stream",
     "text": [
      "step: 3000 \tg_step: 3001 \tloss: 1.67600846||1.23234487 \tlr: 0.00009000||0.00009000\n"
     ]
    },
    {
     "name": "stderr",
     "output_type": "stream",
     "text": [
      " 62%|██████▏   | 3101/5000 [2:03:47<29:58,  1.06it/s]"
     ]
    },
    {
     "name": "stdout",
     "output_type": "stream",
     "text": [
      "step: 3100 \tg_step: 3101 \tloss: 1.69194913||1.35105968 \tlr: 0.00009000||0.00009000\n"
     ]
    },
    {
     "name": "stderr",
     "output_type": "stream",
     "text": [
      " 64%|██████▍   | 3201/5000 [2:05:25<30:04,  1.00s/it]"
     ]
    },
    {
     "name": "stdout",
     "output_type": "stream",
     "text": [
      "step: 3200 \tg_step: 3201 \tloss: 1.45634377||1.32357597 \tlr: 0.00009000||0.00009000\n"
     ]
    },
    {
     "name": "stderr",
     "output_type": "stream",
     "text": [
      " 66%|██████▌   | 3301/5000 [2:07:12<30:30,  1.08s/it]"
     ]
    },
    {
     "name": "stdout",
     "output_type": "stream",
     "text": [
      "step: 3300 \tg_step: 3301 \tloss: 1.02468979||1.40316713 \tlr: 0.00009000||0.00009000\n"
     ]
    },
    {
     "name": "stderr",
     "output_type": "stream",
     "text": [
      " 68%|██████▊   | 3401/5000 [2:08:59<27:34,  1.03s/it]"
     ]
    },
    {
     "name": "stdout",
     "output_type": "stream",
     "text": [
      "step: 3400 \tg_step: 3401 \tloss: 1.26011252||1.16086876 \tlr: 0.00009000||0.00009000\n"
     ]
    },
    {
     "name": "stderr",
     "output_type": "stream",
     "text": [
      " 70%|███████   | 3501/5000 [2:10:50<26:42,  1.07s/it]"
     ]
    },
    {
     "name": "stdout",
     "output_type": "stream",
     "text": [
      "step: 3500 \tg_step: 3501 \tloss: 1.09157372||1.89844894 \tlr: 0.00009000||0.00009000\n"
     ]
    },
    {
     "name": "stderr",
     "output_type": "stream",
     "text": [
      " 72%|███████▏  | 3601/5000 [2:12:38<21:46,  1.07it/s]"
     ]
    },
    {
     "name": "stdout",
     "output_type": "stream",
     "text": [
      "step: 3600 \tg_step: 3601 \tloss: 1.39397180||0.95309681 \tlr: 0.00009000||0.00009000\n"
     ]
    },
    {
     "name": "stderr",
     "output_type": "stream",
     "text": [
      " 74%|███████▍  | 3701/5000 [2:14:16<22:00,  1.02s/it]"
     ]
    },
    {
     "name": "stdout",
     "output_type": "stream",
     "text": [
      "step: 3700 \tg_step: 3701 \tloss: 1.36657941||0.88713950 \tlr: 0.00009000||0.00009000\n"
     ]
    },
    {
     "name": "stderr",
     "output_type": "stream",
     "text": [
      " 76%|███████▌  | 3801/5000 [2:15:55<18:52,  1.06it/s]"
     ]
    },
    {
     "name": "stdout",
     "output_type": "stream",
     "text": [
      "step: 3800 \tg_step: 3801 \tloss: 1.01673830||1.47371614 \tlr: 0.00009000||0.00009000\n"
     ]
    },
    {
     "name": "stderr",
     "output_type": "stream",
     "text": [
      " 78%|███████▊  | 3901/5000 [2:17:38<18:20,  1.00s/it]"
     ]
    },
    {
     "name": "stdout",
     "output_type": "stream",
     "text": [
      "step: 3900 \tg_step: 3901 \tloss: 1.27057898||1.62143445 \tlr: 0.00009000||0.00009000\n"
     ]
    },
    {
     "name": "stderr",
     "output_type": "stream",
     "text": [
      " 80%|████████  | 4001/5000 [2:19:23<18:38,  1.12s/it]"
     ]
    },
    {
     "name": "stdout",
     "output_type": "stream",
     "text": [
      "step: 4000 \tg_step: 4001 \tloss: 1.43230367||1.31112826 \tlr: 0.00008100||0.00008100\n"
     ]
    },
    {
     "name": "stderr",
     "output_type": "stream",
     "text": [
      " 82%|████████▏ | 4101/5000 [2:21:06<17:33,  1.17s/it]"
     ]
    },
    {
     "name": "stdout",
     "output_type": "stream",
     "text": [
      "step: 4100 \tg_step: 4101 \tloss: 0.89687920||1.89468467 \tlr: 0.00008100||0.00008100\n"
     ]
    },
    {
     "name": "stderr",
     "output_type": "stream",
     "text": [
      " 84%|████████▍ | 4201/5000 [2:22:46<12:59,  1.03it/s]"
     ]
    },
    {
     "name": "stdout",
     "output_type": "stream",
     "text": [
      "step: 4200 \tg_step: 4201 \tloss: 1.13084543||1.43808889 \tlr: 0.00008100||0.00008100\n"
     ]
    },
    {
     "name": "stderr",
     "output_type": "stream",
     "text": [
      " 86%|████████▌ | 4301/5000 [2:24:27<11:22,  1.02it/s]"
     ]
    },
    {
     "name": "stdout",
     "output_type": "stream",
     "text": [
      "step: 4300 \tg_step: 4301 \tloss: 1.67569923||1.56148934 \tlr: 0.00008100||0.00008100\n"
     ]
    },
    {
     "name": "stderr",
     "output_type": "stream",
     "text": [
      " 88%|████████▊ | 4401/5000 [2:26:11<10:21,  1.04s/it]"
     ]
    },
    {
     "name": "stdout",
     "output_type": "stream",
     "text": [
      "step: 4400 \tg_step: 4401 \tloss: 0.75928879||1.77026653 \tlr: 0.00008100||0.00008100\n"
     ]
    },
    {
     "name": "stderr",
     "output_type": "stream",
     "text": [
      " 90%|█████████ | 4501/5000 [2:27:50<08:02,  1.03it/s]"
     ]
    },
    {
     "name": "stdout",
     "output_type": "stream",
     "text": [
      "step: 4500 \tg_step: 4501 \tloss: 1.45110452||1.32717836 \tlr: 0.00008100||0.00008100\n"
     ]
    },
    {
     "name": "stderr",
     "output_type": "stream",
     "text": [
      " 92%|█████████▏| 4601/5000 [2:29:32<07:00,  1.05s/it]"
     ]
    },
    {
     "name": "stdout",
     "output_type": "stream",
     "text": [
      "step: 4600 \tg_step: 4601 \tloss: 1.32576084||1.36884058 \tlr: 0.00008100||0.00008100\n"
     ]
    },
    {
     "name": "stderr",
     "output_type": "stream",
     "text": [
      " 94%|█████████▍| 4701/5000 [2:31:10<04:35,  1.08it/s]"
     ]
    },
    {
     "name": "stdout",
     "output_type": "stream",
     "text": [
      "step: 4700 \tg_step: 4701 \tloss: 0.94941521||1.56411874 \tlr: 0.00008100||0.00008100\n"
     ]
    },
    {
     "name": "stderr",
     "output_type": "stream",
     "text": [
      " 96%|█████████▌| 4801/5000 [2:32:49<03:10,  1.05it/s]"
     ]
    },
    {
     "name": "stdout",
     "output_type": "stream",
     "text": [
      "step: 4800 \tg_step: 4801 \tloss: 1.38119900||1.05319691 \tlr: 0.00008100||0.00008100\n"
     ]
    },
    {
     "name": "stderr",
     "output_type": "stream",
     "text": [
      " 98%|█████████▊| 4901/5000 [2:34:27<01:35,  1.04it/s]"
     ]
    },
    {
     "name": "stdout",
     "output_type": "stream",
     "text": [
      "step: 4900 \tg_step: 4901 \tloss: 1.61456037||1.41548669 \tlr: 0.00008100||0.00008100\n"
     ]
    },
    {
     "name": "stderr",
     "output_type": "stream",
     "text": [
      "100%|██████████| 5000/5000 [2:36:08<00:00,  1.17s/it]"
     ]
    },
    {
     "name": "stdout",
     "output_type": "stream",
     "text": [
      "All Done! test_loss is 1.1068514585494995\n"
     ]
    },
    {
     "name": "stderr",
     "output_type": "stream",
     "text": [
      "\n"
     ]
    }
   ],
   "source": [
    "from tqdm import trange\n",
    "with tf.Session() as sess:\n",
    "    tf.train.start_queue_runners(sess=sess)\n",
    "    tf.global_variables_initializer().run(session=sess)\n",
    "\n",
    "    for step in trange(training_step):\n",
    "        batch_train_inputs, batch_train_labels, batch_train_visit_times = datasets.train.next_batch(batch_size)\n",
    "        batch_val_inputs, batch_val_labels, batch_val_visit_times = datasets.validation.next_batch(batch_size)\n",
    "        batch_te_inputs, batch_te_labels, batch_te_visit_times = datasets.test.next_batch(batch_size)\n",
    "        train_feed_dict = {inputs: batch_train_inputs, \n",
    "                           labels: batch_train_labels, \n",
    "                           visit_times: batch_train_visit_times}\n",
    "        validation_feed_dict = {inputs: batch_val_inputs, \n",
    "                                labels: batch_val_labels, \n",
    "                                visit_times: batch_val_visit_times}\n",
    "        test_feed_dict = {inputs: batch_te_inputs, \n",
    "                          labels: batch_te_labels, \n",
    "                          visit_times: batch_te_visit_times}\n",
    "        _, g_step, train_loss, train_lr_ = sess.run([optimizer, global_step, last_loss, lr], feed_dict=train_feed_dict)\n",
    "        val_loss, val_lr_ = sess.run([last_loss, lr], feed_dict=validation_feed_dict)\n",
    "        \n",
    "        if step % printby == 0:\n",
    "            print('step: {} \\tg_step: {} \\tloss: {:.8f}||{:.8f} \\tlr: {:.8f}||{:.8f}'.format(step, g_step, train_loss, val_loss, train_lr_, val_lr_))\n",
    "        \n",
    "        if step == training_step-1:\n",
    "            te_loss = sess.run(last_loss, feed_dict=test_feed_dict)\n",
    "            print('All Done! test_loss is {}'.format(te_loss))"
   ]
  },
  {
   "cell_type": "code",
   "execution_count": null,
   "metadata": {},
   "outputs": [],
   "source": []
  },
  {
   "cell_type": "code",
   "execution_count": null,
   "metadata": {},
   "outputs": [],
   "source": []
  },
  {
   "cell_type": "code",
   "execution_count": null,
   "metadata": {},
   "outputs": [],
   "source": []
  },
  {
   "cell_type": "code",
   "execution_count": null,
   "metadata": {},
   "outputs": [],
   "source": []
  },
  {
   "cell_type": "code",
   "execution_count": null,
   "metadata": {},
   "outputs": [],
   "source": []
  }
 ],
 "metadata": {
  "kernelspec": {
   "display_name": "Python 3",
   "language": "python",
   "name": "python3"
  },
  "language_info": {
   "codemirror_mode": {
    "name": "ipython",
    "version": 3
   },
   "file_extension": ".py",
   "mimetype": "text/x-python",
   "name": "python",
   "nbconvert_exporter": "python",
   "pygments_lexer": "ipython3",
   "version": "3.6.1"
  },
  "notify_time": "5"
 },
 "nbformat": 4,
 "nbformat_minor": 2
}
