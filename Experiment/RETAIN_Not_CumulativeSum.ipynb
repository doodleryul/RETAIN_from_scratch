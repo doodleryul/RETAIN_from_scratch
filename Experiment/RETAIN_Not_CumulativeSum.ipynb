{
 "cells": [
  {
   "cell_type": "code",
   "execution_count": 1,
   "metadata": {},
   "outputs": [
    {
     "name": "stdout",
     "output_type": "stream",
     "text": [
      "SERVER_IP: \"128.1.99.53:1433\"\n",
      "USER: \"yrlee\"\n",
      "PASSWD: \"qwer1234!@\"\n",
      "DB: \"LJ_HF_replica_study\"\n",
      "Done 13.871742010116577\n",
      "Dumping at.. ./HF_C_dx.pkl\n"
     ]
    }
   ],
   "source": [
    "from CDM_DataSetMaker_ops import get_conn\n",
    "from RETAIN_Dataset import convert_transaction_to_seq\n",
    "\n",
    "conn = get_conn('./DB_connection.txt')\n",
    "#T_seq = convert_transaction_to_seq(conn, 'condition_concept_id', 'HF_T_dx.pkl')\n",
    "#C_seq = convert_transaction_to_seq(conn, 'condition_concept_id', 'HF_C_dx.pkl')"
   ]
  },
  {
   "cell_type": "code",
   "execution_count": 1,
   "metadata": {
    "scrolled": true
   },
   "outputs": [
    {
     "name": "stdout",
     "output_type": "stream",
     "text": [
      "Loading at.. ./HF_T_dx.pkl\n",
      "Loading at.. ./HF_C_dx.pkl\n"
     ]
    },
    {
     "data": {
      "text/plain": [
       "(22548, 85011)"
      ]
     },
     "execution_count": 1,
     "metadata": {},
     "output_type": "execute_result"
    }
   ],
   "source": [
    "from CDM_DataSetMaker_ops import loadingFiles\n",
    "\n",
    "T_seq = loadingFiles('./', 'HF_T_dx.pkl')\n",
    "C_seq = loadingFiles('./', 'HF_C_dx.pkl')\n",
    "\n",
    "len(T_seq), len(C_seq)"
   ]
  },
  {
   "cell_type": "code",
   "execution_count": 2,
   "metadata": {},
   "outputs": [
    {
     "name": "stdout",
     "output_type": "stream",
     "text": [
      "code_size:  5088\n"
     ]
    }
   ],
   "source": [
    "from RETAIN_Dataset_Final import truncated_data, code_to_id\n",
    "\n",
    "HF_T_cut = truncated_data(T_seq, cut_num=2)\n",
    "HF_C_cut = truncated_data(C_seq, cut_num=2)\n",
    "HF_code_dict, max_visit_size = code_to_id(HF_T_cut+HF_C_cut)"
   ]
  },
  {
   "cell_type": "code",
   "execution_count": 3,
   "metadata": {},
   "outputs": [],
   "source": [
    "from RETAIN_Dataset_Final import RETAIN_datasets\n",
    "\n",
    "datasets = RETAIN_datasets(HF_T_cut, HF_C_cut, HF_code_dict, max_visit_size)"
   ]
  },
  {
   "cell_type": "code",
   "execution_count": 4,
   "metadata": {},
   "outputs": [
    {
     "name": "stderr",
     "output_type": "stream",
     "text": [
      "/Library/Frameworks/Python.framework/Versions/3.6/lib/python3.6/importlib/_bootstrap.py:205: RuntimeWarning: compiletime version 3.5 of module 'tensorflow.python.framework.fast_tensor_util' does not match runtime version 3.6\n",
      "  return f(*args, **kwds)\n"
     ]
    }
   ],
   "source": [
    "import tensorflow as tf"
   ]
  },
  {
   "cell_type": "code",
   "execution_count": 5,
   "metadata": {},
   "outputs": [],
   "source": [
    "batch_size = 10\n",
    "time_size = max_visit_size\n",
    "code_size = len(HF_code_dict)\n",
    "label_size = 2\n",
    "lr_init = 0.0001\n",
    "decay_step = 2000\n",
    "decay_rate = 0.9\n",
    "training_step = 5000\n",
    "printby = 100\n",
    "\n",
    "hidden_size_alpha = 128\n",
    "hidden_size_beta = 128"
   ]
  },
  {
   "cell_type": "code",
   "execution_count": 6,
   "metadata": {},
   "outputs": [],
   "source": [
    "import tensorflow as tf\n",
    "\n",
    "def sequence_masking(data, visit_times):\n",
    "    masking = tf.tile(tf.reshape(tf.sequence_mask(visit_times, data.shape[1]), shape=[-1,data.shape[1],1]), [1,1,data.shape[2]])\n",
    "    return tf.where(masking, data, tf.zeros_like(data))"
   ]
  },
  {
   "cell_type": "code",
   "execution_count": 7,
   "metadata": {},
   "outputs": [],
   "source": [
    "inputs = tf.placeholder(tf.float32, shape=[None, time_size, code_size])\n",
    "labels = tf.placeholder(tf.float32, shape=[None, time_size, label_size])\n",
    "visit_times = tf.placeholder(tf.float32, shape=[None])\n",
    "global_step = tf.Variable(0, trainable=False, dtype=tf.int32)\n",
    "lr = tf.train.exponential_decay(lr_init, global_step, decay_step, decay_rate, staircase=True)\n",
    "\n",
    "##embedding\n",
    "\n",
    "##alpha\n",
    "W_alpha = tf.Variable(tf.random_normal(shape=[hidden_size_alpha, 1], name='W_alpha'))\n",
    "b_alpha = tf.Variable(tf.random_normal(shape=[], name='b_alpha'))\n",
    "with tf.variable_scope('alpha'):\n",
    "    cells_alpha = tf.nn.rnn_cell.MultiRNNCell([tf.nn.rnn_cell.LSTMCell(hidden_size_alpha)])\n",
    "    outputs_alpha, states_alpha = tf.nn.dynamic_rnn(cells_alpha, inputs, visit_times, dtype=tf.float32)\n",
    "    reshaped_outputs_alpha = tf.reshape(outputs_alpha, shape=[-1, hidden_size_alpha])\n",
    "    matmuled_alpha = tf.matmul(reshaped_outputs_alpha, W_alpha) + tf.expand_dims(b_alpha, 0)\n",
    "    reshaped_matmuled_alpha = tf.reshape(matmuled_alpha, shape=[-1, time_size, 1])\n",
    "    logits_alpha = tf.nn.softmax(reshaped_matmuled_alpha, 1)\n",
    "    \n",
    "##Beta\n",
    "W_beta = tf.Variable(tf.random_normal(shape=[hidden_size_beta, code_size]))\n",
    "b_beta = tf.Variable(tf.random_normal(shape=[code_size]))\n",
    "with tf.variable_scope('beta'):\n",
    "    cells_beta = tf.nn.rnn_cell.MultiRNNCell([tf.nn.rnn_cell.LSTMCell(hidden_size_beta)])\n",
    "    outputs_beta, states_beta = tf.nn.dynamic_rnn(cells_beta, inputs, visit_times, dtype=tf.float32)\n",
    "    reshaped_outputs_beta = tf.reshape(outputs_beta, shape=[-1, hidden_size_beta])\n",
    "    matmuled_ouputs_beta = tf.matmul(reshaped_outputs_beta, W_beta) + tf.expand_dims(b_beta, 0)\n",
    "    reshaped_matmuled_beta = tf.reshape(matmuled_ouputs_beta, shape=[-1, time_size, code_size])\n",
    "    logits_beta = tf.nn.tanh(reshaped_matmuled_beta)\n",
    "    \n",
    "##unifiy\n",
    "W_s = tf.Variable(tf.random_normal(shape=[code_size, label_size]))\n",
    "b_s = tf.Variable(tf.random_normal(shape=[label_size]))\n",
    "unified_context = logits_alpha*logits_beta*inputs\n",
    "#context_vec = []\n",
    "#for b in range(batch_size):\n",
    "#    pid_seq = unified_context[b]\n",
    "#    for t in range(time_size):\n",
    "#        context_vec.append(tf.reduce_sum(pid_seq[:t+1, :], axis=0))\n",
    "reshaped_context_vec = tf.reshape(unified_context, shape=[-1, code_size])\n",
    "mlp_context_vec = tf.matmul(reshaped_context_vec, W_s) + b_s\n",
    "logits = tf.nn.softmax(tf.reshape(mlp_context_vec, shape=[-1, time_size, label_size]))\n",
    "masked_logits = sequence_masking(logits, visit_times)\n",
    "masked_labels = sequence_masking(labels, visit_times)\n",
    "\n",
    "##Loss function\n",
    "loss_per_times = tf.reduce_sum(masked_labels*tf.log(masked_logits+1e-10)+(1-masked_labels)*tf.log(1-masked_logits+1e-10), axis=-1)\n",
    "loss_per_pid = tf.reduce_sum(loss_per_times, axis=-1)*(1/visit_times)\n",
    "last_loss = -tf.reduce_sum(loss_per_pid)*(1/batch_size)\n",
    "optimizer = tf.train.AdamOptimizer(learning_rate=lr).minimize(last_loss, global_step=global_step)\n",
    "\n",
    "##accuracy\n",
    "#argmax_logits = tf.argmax(tf.reshape(masked_logits, shape=[-1,label_size]), axis=1)\n",
    "#argmax_labels = tf.argmax(tf.reshape(masked_labels, shape=[-1,label_size]), axis=1)\n",
    "#compared = tf.cast(tf.equal(argmax_logits, argmax_labels), tf.float32)\n",
    "#accuracy = tf.reduce_mean(compared, axis=0)"
   ]
  },
  {
   "cell_type": "code",
   "execution_count": 8,
   "metadata": {
    "scrolled": false
   },
   "outputs": [
    {
     "name": "stderr",
     "output_type": "stream",
     "text": [
      "  0%|          | 1/5000 [00:05<7:06:45,  5.12s/it]"
     ]
    },
    {
     "name": "stdout",
     "output_type": "stream",
     "text": [
      "step: 0 \tg_step: 1 \tloss: 1.43568647||1.44257545 \tlr: 0.00010000||0.00010000\n"
     ]
    },
    {
     "name": "stderr",
     "output_type": "stream",
     "text": [
      "  2%|▏         | 101/5000 [06:25<5:04:26,  3.73s/it]"
     ]
    },
    {
     "name": "stdout",
     "output_type": "stream",
     "text": [
      "step: 100 \tg_step: 101 \tloss: 1.42380190||1.43273389 \tlr: 0.00010000||0.00010000\n"
     ]
    },
    {
     "name": "stderr",
     "output_type": "stream",
     "text": [
      "  4%|▍         | 201/5000 [11:54<4:25:27,  3.32s/it]"
     ]
    },
    {
     "name": "stdout",
     "output_type": "stream",
     "text": [
      "step: 200 \tg_step: 201 \tloss: 1.42660272||1.41194069 \tlr: 0.00010000||0.00010000\n"
     ]
    },
    {
     "name": "stderr",
     "output_type": "stream",
     "text": [
      "  6%|▌         | 301/5000 [17:15<4:08:15,  3.17s/it]"
     ]
    },
    {
     "name": "stdout",
     "output_type": "stream",
     "text": [
      "step: 300 \tg_step: 301 \tloss: 1.42051733||1.40211153 \tlr: 0.00010000||0.00010000\n"
     ]
    },
    {
     "name": "stderr",
     "output_type": "stream",
     "text": [
      "  8%|▊         | 401/5000 [22:32<4:00:12,  3.13s/it]"
     ]
    },
    {
     "name": "stdout",
     "output_type": "stream",
     "text": [
      "step: 400 \tg_step: 401 \tloss: 1.41118824||1.41389596 \tlr: 0.00010000||0.00010000\n"
     ]
    },
    {
     "name": "stderr",
     "output_type": "stream",
     "text": [
      " 10%|█         | 501/5000 [27:48<3:58:23,  3.18s/it]"
     ]
    },
    {
     "name": "stdout",
     "output_type": "stream",
     "text": [
      "step: 500 \tg_step: 501 \tloss: 1.40598094||1.41617644 \tlr: 0.00010000||0.00010000\n"
     ]
    },
    {
     "name": "stderr",
     "output_type": "stream",
     "text": [
      " 12%|█▏        | 601/5000 [33:51<4:13:23,  3.46s/it]"
     ]
    },
    {
     "name": "stdout",
     "output_type": "stream",
     "text": [
      "step: 600 \tg_step: 601 \tloss: 1.41161156||1.41663885 \tlr: 0.00010000||0.00010000\n"
     ]
    },
    {
     "name": "stderr",
     "output_type": "stream",
     "text": [
      " 14%|█▍        | 701/5000 [39:49<4:29:29,  3.76s/it]"
     ]
    },
    {
     "name": "stdout",
     "output_type": "stream",
     "text": [
      "step: 700 \tg_step: 701 \tloss: 1.39765728||1.40677798 \tlr: 0.00010000||0.00010000\n"
     ]
    },
    {
     "name": "stderr",
     "output_type": "stream",
     "text": [
      " 16%|█▌        | 801/5000 [45:11<4:24:00,  3.77s/it]"
     ]
    },
    {
     "name": "stdout",
     "output_type": "stream",
     "text": [
      "step: 800 \tg_step: 801 \tloss: 1.40335274||1.39616072 \tlr: 0.00010000||0.00010000\n"
     ]
    },
    {
     "name": "stderr",
     "output_type": "stream",
     "text": [
      " 18%|█▊        | 901/5000 [51:15<4:05:04,  3.59s/it]"
     ]
    },
    {
     "name": "stdout",
     "output_type": "stream",
     "text": [
      "step: 900 \tg_step: 901 \tloss: 1.38627720||1.40282285 \tlr: 0.00010000||0.00010000\n"
     ]
    },
    {
     "name": "stderr",
     "output_type": "stream",
     "text": [
      " 20%|██        | 1001/5000 [56:32<3:30:08,  3.15s/it]"
     ]
    },
    {
     "name": "stdout",
     "output_type": "stream",
     "text": [
      "step: 1000 \tg_step: 1001 \tloss: 1.39285135||1.38586700 \tlr: 0.00010000||0.00010000\n"
     ]
    },
    {
     "name": "stderr",
     "output_type": "stream",
     "text": [
      " 22%|██▏       | 1101/5000 [1:01:50<3:26:24,  3.18s/it]"
     ]
    },
    {
     "name": "stdout",
     "output_type": "stream",
     "text": [
      "step: 1100 \tg_step: 1101 \tloss: 1.37385213||1.36651206 \tlr: 0.00010000||0.00010000\n"
     ]
    },
    {
     "name": "stderr",
     "output_type": "stream",
     "text": [
      " 24%|██▍       | 1201/5000 [1:07:13<3:21:39,  3.19s/it]"
     ]
    },
    {
     "name": "stdout",
     "output_type": "stream",
     "text": [
      "step: 1200 \tg_step: 1201 \tloss: 1.36371624||1.39566195 \tlr: 0.00010000||0.00010000\n"
     ]
    },
    {
     "name": "stderr",
     "output_type": "stream",
     "text": [
      " 26%|██▌       | 1301/5000 [1:12:30<3:14:18,  3.15s/it]"
     ]
    },
    {
     "name": "stdout",
     "output_type": "stream",
     "text": [
      "step: 1300 \tg_step: 1301 \tloss: 1.35828900||1.38616884 \tlr: 0.00010000||0.00010000\n"
     ]
    },
    {
     "name": "stderr",
     "output_type": "stream",
     "text": [
      " 28%|██▊       | 1401/5000 [1:17:48<3:03:33,  3.06s/it]"
     ]
    },
    {
     "name": "stdout",
     "output_type": "stream",
     "text": [
      "step: 1400 \tg_step: 1401 \tloss: 1.37381899||1.35909784 \tlr: 0.00010000||0.00010000\n"
     ]
    },
    {
     "name": "stderr",
     "output_type": "stream",
     "text": [
      " 30%|███       | 1501/5000 [1:22:55<2:59:27,  3.08s/it]"
     ]
    },
    {
     "name": "stdout",
     "output_type": "stream",
     "text": [
      "step: 1500 \tg_step: 1501 \tloss: 1.40110648||1.38178873 \tlr: 0.00010000||0.00010000\n"
     ]
    },
    {
     "name": "stderr",
     "output_type": "stream",
     "text": [
      " 32%|███▏      | 1601/5000 [1:28:04<2:52:59,  3.05s/it]"
     ]
    },
    {
     "name": "stdout",
     "output_type": "stream",
     "text": [
      "step: 1600 \tg_step: 1601 \tloss: 1.34525681||1.37351215 \tlr: 0.00010000||0.00010000\n"
     ]
    },
    {
     "name": "stderr",
     "output_type": "stream",
     "text": [
      " 34%|███▍      | 1701/5000 [1:33:09<2:47:07,  3.04s/it]"
     ]
    },
    {
     "name": "stdout",
     "output_type": "stream",
     "text": [
      "step: 1700 \tg_step: 1701 \tloss: 1.38275838||1.33994997 \tlr: 0.00010000||0.00010000\n"
     ]
    },
    {
     "name": "stderr",
     "output_type": "stream",
     "text": [
      " 36%|███▌      | 1801/5000 [1:38:12<2:44:33,  3.09s/it]"
     ]
    },
    {
     "name": "stdout",
     "output_type": "stream",
     "text": [
      "step: 1800 \tg_step: 1801 \tloss: 1.40392971||1.34330010 \tlr: 0.00010000||0.00010000\n"
     ]
    },
    {
     "name": "stderr",
     "output_type": "stream",
     "text": [
      " 38%|███▊      | 1901/5000 [1:43:16<2:37:21,  3.05s/it]"
     ]
    },
    {
     "name": "stdout",
     "output_type": "stream",
     "text": [
      "step: 1900 \tg_step: 1901 \tloss: 1.36745512||1.32630444 \tlr: 0.00010000||0.00010000\n"
     ]
    },
    {
     "name": "stderr",
     "output_type": "stream",
     "text": [
      " 40%|████      | 2001/5000 [1:48:20<2:33:11,  3.06s/it]"
     ]
    },
    {
     "name": "stdout",
     "output_type": "stream",
     "text": [
      "step: 2000 \tg_step: 2001 \tloss: 1.29145205||1.41656804 \tlr: 0.00009000||0.00009000\n"
     ]
    },
    {
     "name": "stderr",
     "output_type": "stream",
     "text": [
      " 42%|████▏     | 2101/5000 [1:53:24<2:25:34,  3.01s/it]"
     ]
    },
    {
     "name": "stdout",
     "output_type": "stream",
     "text": [
      "step: 2100 \tg_step: 2101 \tloss: 1.29305732||1.33674920 \tlr: 0.00009000||0.00009000\n"
     ]
    },
    {
     "name": "stderr",
     "output_type": "stream",
     "text": [
      " 44%|████▍     | 2201/5000 [1:58:28<2:21:55,  3.04s/it]"
     ]
    },
    {
     "name": "stdout",
     "output_type": "stream",
     "text": [
      "step: 2200 \tg_step: 2201 \tloss: 1.36956704||1.30745208 \tlr: 0.00009000||0.00009000\n"
     ]
    },
    {
     "name": "stderr",
     "output_type": "stream",
     "text": [
      " 46%|████▌     | 2301/5000 [2:03:35<2:16:52,  3.04s/it]"
     ]
    },
    {
     "name": "stdout",
     "output_type": "stream",
     "text": [
      "step: 2300 \tg_step: 2301 \tloss: 1.36781597||1.33078420 \tlr: 0.00009000||0.00009000\n"
     ]
    },
    {
     "name": "stderr",
     "output_type": "stream",
     "text": [
      " 48%|████▊     | 2401/5000 [2:08:40<2:11:54,  3.05s/it]"
     ]
    },
    {
     "name": "stdout",
     "output_type": "stream",
     "text": [
      "step: 2400 \tg_step: 2401 \tloss: 1.37135732||1.27776814 \tlr: 0.00009000||0.00009000\n"
     ]
    },
    {
     "name": "stderr",
     "output_type": "stream",
     "text": [
      " 50%|█████     | 2501/5000 [2:13:43<2:05:06,  3.00s/it]"
     ]
    },
    {
     "name": "stdout",
     "output_type": "stream",
     "text": [
      "step: 2500 \tg_step: 2501 \tloss: 1.30854475||1.27792966 \tlr: 0.00009000||0.00009000\n"
     ]
    },
    {
     "name": "stderr",
     "output_type": "stream",
     "text": [
      " 52%|█████▏    | 2601/5000 [2:18:47<2:01:48,  3.05s/it]"
     ]
    },
    {
     "name": "stdout",
     "output_type": "stream",
     "text": [
      "step: 2600 \tg_step: 2601 \tloss: 1.37010753||1.29953003 \tlr: 0.00009000||0.00009000\n"
     ]
    },
    {
     "name": "stderr",
     "output_type": "stream",
     "text": [
      " 54%|█████▍    | 2701/5000 [2:23:22<1:26:16,  2.25s/it]"
     ]
    },
    {
     "name": "stdout",
     "output_type": "stream",
     "text": [
      "step: 2700 \tg_step: 2701 \tloss: 1.28837109||1.29481542 \tlr: 0.00009000||0.00009000\n"
     ]
    },
    {
     "name": "stderr",
     "output_type": "stream",
     "text": [
      " 56%|█████▌    | 2801/5000 [2:27:07<1:22:46,  2.26s/it]"
     ]
    },
    {
     "name": "stdout",
     "output_type": "stream",
     "text": [
      "step: 2800 \tg_step: 2801 \tloss: 1.33564913||1.36776471 \tlr: 0.00009000||0.00009000\n"
     ]
    },
    {
     "name": "stderr",
     "output_type": "stream",
     "text": [
      " 58%|█████▊    | 2901/5000 [2:30:28<51:43,  1.48s/it]  "
     ]
    },
    {
     "name": "stdout",
     "output_type": "stream",
     "text": [
      "step: 2900 \tg_step: 2901 \tloss: 1.27361381||1.32426298 \tlr: 0.00009000||0.00009000\n"
     ]
    },
    {
     "name": "stderr",
     "output_type": "stream",
     "text": [
      " 60%|██████    | 3001/5000 [2:32:55<48:49,  1.47s/it]"
     ]
    },
    {
     "name": "stdout",
     "output_type": "stream",
     "text": [
      "step: 3000 \tg_step: 3001 \tloss: 1.33163393||1.51385438 \tlr: 0.00009000||0.00009000\n"
     ]
    },
    {
     "name": "stderr",
     "output_type": "stream",
     "text": [
      " 62%|██████▏   | 3101/5000 [2:34:32<24:56,  1.27it/s]"
     ]
    },
    {
     "name": "stdout",
     "output_type": "stream",
     "text": [
      "step: 3100 \tg_step: 3101 \tloss: 1.31745660||1.39344251 \tlr: 0.00009000||0.00009000\n"
     ]
    },
    {
     "name": "stderr",
     "output_type": "stream",
     "text": [
      " 64%|██████▍   | 3201/5000 [2:35:50<23:36,  1.27it/s]"
     ]
    },
    {
     "name": "stdout",
     "output_type": "stream",
     "text": [
      "step: 3200 \tg_step: 3201 \tloss: 1.30878508||1.33510673 \tlr: 0.00009000||0.00009000\n"
     ]
    },
    {
     "name": "stderr",
     "output_type": "stream",
     "text": [
      " 66%|██████▌   | 3301/5000 [2:37:09<22:19,  1.27it/s]"
     ]
    },
    {
     "name": "stdout",
     "output_type": "stream",
     "text": [
      "step: 3300 \tg_step: 3301 \tloss: 1.26942575||1.35230529 \tlr: 0.00009000||0.00009000\n"
     ]
    },
    {
     "name": "stderr",
     "output_type": "stream",
     "text": [
      " 68%|██████▊   | 3401/5000 [2:38:28<21:11,  1.26it/s]"
     ]
    },
    {
     "name": "stdout",
     "output_type": "stream",
     "text": [
      "step: 3400 \tg_step: 3401 \tloss: 1.25358307||1.35901022 \tlr: 0.00009000||0.00009000\n"
     ]
    },
    {
     "name": "stderr",
     "output_type": "stream",
     "text": [
      " 70%|███████   | 3501/5000 [2:39:47<19:33,  1.28it/s]"
     ]
    },
    {
     "name": "stdout",
     "output_type": "stream",
     "text": [
      "step: 3500 \tg_step: 3501 \tloss: 1.30801380||1.28664029 \tlr: 0.00009000||0.00009000\n"
     ]
    },
    {
     "name": "stderr",
     "output_type": "stream",
     "text": [
      " 72%|███████▏  | 3601/5000 [2:41:06<18:19,  1.27it/s]"
     ]
    },
    {
     "name": "stdout",
     "output_type": "stream",
     "text": [
      "step: 3600 \tg_step: 3601 \tloss: 1.30515873||1.45064628 \tlr: 0.00009000||0.00009000\n"
     ]
    },
    {
     "name": "stderr",
     "output_type": "stream",
     "text": [
      " 74%|███████▍  | 3701/5000 [2:42:25<17:09,  1.26it/s]"
     ]
    },
    {
     "name": "stdout",
     "output_type": "stream",
     "text": [
      "step: 3700 \tg_step: 3701 \tloss: 1.35425293||1.26899791 \tlr: 0.00009000||0.00009000\n"
     ]
    },
    {
     "name": "stderr",
     "output_type": "stream",
     "text": [
      " 76%|███████▌  | 3801/5000 [2:43:43<15:38,  1.28it/s]"
     ]
    },
    {
     "name": "stdout",
     "output_type": "stream",
     "text": [
      "step: 3800 \tg_step: 3801 \tloss: 1.28259051||1.22092366 \tlr: 0.00009000||0.00009000\n"
     ]
    },
    {
     "name": "stderr",
     "output_type": "stream",
     "text": [
      " 78%|███████▊  | 3901/5000 [2:45:01<14:26,  1.27it/s]"
     ]
    },
    {
     "name": "stdout",
     "output_type": "stream",
     "text": [
      "step: 3900 \tg_step: 3901 \tloss: 1.36375749||1.33279002 \tlr: 0.00009000||0.00009000\n"
     ]
    },
    {
     "name": "stderr",
     "output_type": "stream",
     "text": [
      " 80%|████████  | 4001/5000 [2:46:20<13:02,  1.28it/s]"
     ]
    },
    {
     "name": "stdout",
     "output_type": "stream",
     "text": [
      "step: 4000 \tg_step: 4001 \tloss: 1.32283533||1.31820714 \tlr: 0.00008100||0.00008100\n"
     ]
    },
    {
     "name": "stderr",
     "output_type": "stream",
     "text": [
      " 82%|████████▏ | 4101/5000 [2:47:39<11:43,  1.28it/s]"
     ]
    },
    {
     "name": "stdout",
     "output_type": "stream",
     "text": [
      "step: 4100 \tg_step: 4101 \tloss: 1.21796918||1.24955297 \tlr: 0.00008100||0.00008100\n"
     ]
    },
    {
     "name": "stderr",
     "output_type": "stream",
     "text": [
      " 84%|████████▍ | 4201/5000 [2:48:58<10:30,  1.27it/s]"
     ]
    },
    {
     "name": "stdout",
     "output_type": "stream",
     "text": [
      "step: 4200 \tg_step: 4201 \tloss: 1.30204999||1.27697837 \tlr: 0.00008100||0.00008100\n"
     ]
    },
    {
     "name": "stderr",
     "output_type": "stream",
     "text": [
      " 86%|████████▌ | 4301/5000 [2:50:16<09:03,  1.29it/s]"
     ]
    },
    {
     "name": "stdout",
     "output_type": "stream",
     "text": [
      "step: 4300 \tg_step: 4301 \tloss: 1.31307316||1.34532773 \tlr: 0.00008100||0.00008100\n"
     ]
    },
    {
     "name": "stderr",
     "output_type": "stream",
     "text": [
      " 88%|████████▊ | 4401/5000 [2:51:35<07:53,  1.27it/s]"
     ]
    },
    {
     "name": "stdout",
     "output_type": "stream",
     "text": [
      "step: 4400 \tg_step: 4401 \tloss: 1.37273824||1.35172451 \tlr: 0.00008100||0.00008100\n"
     ]
    },
    {
     "name": "stderr",
     "output_type": "stream",
     "text": [
      " 90%|█████████ | 4501/5000 [2:52:54<06:31,  1.27it/s]"
     ]
    },
    {
     "name": "stdout",
     "output_type": "stream",
     "text": [
      "step: 4500 \tg_step: 4501 \tloss: 1.31804359||1.34362900 \tlr: 0.00008100||0.00008100\n"
     ]
    },
    {
     "name": "stderr",
     "output_type": "stream",
     "text": [
      " 92%|█████████▏| 4601/5000 [2:54:13<05:15,  1.26it/s]"
     ]
    },
    {
     "name": "stdout",
     "output_type": "stream",
     "text": [
      "step: 4600 \tg_step: 4601 \tloss: 1.33085382||1.31690371 \tlr: 0.00008100||0.00008100\n"
     ]
    },
    {
     "name": "stderr",
     "output_type": "stream",
     "text": [
      " 94%|█████████▍| 4701/5000 [2:55:34<03:54,  1.28it/s]"
     ]
    },
    {
     "name": "stdout",
     "output_type": "stream",
     "text": [
      "step: 4700 \tg_step: 4701 \tloss: 1.31147134||1.42245960 \tlr: 0.00008100||0.00008100\n"
     ]
    },
    {
     "name": "stderr",
     "output_type": "stream",
     "text": [
      " 96%|█████████▌| 4801/5000 [2:56:56<02:36,  1.27it/s]"
     ]
    },
    {
     "name": "stdout",
     "output_type": "stream",
     "text": [
      "step: 4800 \tg_step: 4801 \tloss: 1.30168664||1.32947624 \tlr: 0.00008100||0.00008100\n"
     ]
    },
    {
     "name": "stderr",
     "output_type": "stream",
     "text": [
      " 98%|█████████▊| 4901/5000 [2:58:15<01:18,  1.26it/s]"
     ]
    },
    {
     "name": "stdout",
     "output_type": "stream",
     "text": [
      "step: 4900 \tg_step: 4901 \tloss: 1.46170807||1.28822505 \tlr: 0.00008100||0.00008100\n"
     ]
    },
    {
     "name": "stderr",
     "output_type": "stream",
     "text": [
      "100%|██████████| 5000/5000 [2:59:33<00:00,  1.18it/s]"
     ]
    },
    {
     "name": "stdout",
     "output_type": "stream",
     "text": [
      "All Done! test_loss is 1.2397422790527344\n"
     ]
    },
    {
     "name": "stderr",
     "output_type": "stream",
     "text": [
      "\n"
     ]
    }
   ],
   "source": [
    "from tqdm import trange\n",
    "with tf.Session() as sess:\n",
    "    tf.train.start_queue_runners(sess=sess)\n",
    "    tf.global_variables_initializer().run(session=sess)\n",
    "\n",
    "    for step in trange(training_step):\n",
    "        batch_train_inputs, batch_train_labels, batch_train_visit_times = datasets.train.next_batch(batch_size)\n",
    "        batch_val_inputs, batch_val_labels, batch_val_visit_times = datasets.validation.next_batch(batch_size)\n",
    "        batch_te_inputs, batch_te_labels, batch_te_visit_times = datasets.test.next_batch(batch_size)\n",
    "        train_feed_dict = {inputs: batch_train_inputs, \n",
    "                           labels: batch_train_labels, \n",
    "                           visit_times: batch_train_visit_times}\n",
    "        validation_feed_dict = {inputs: batch_val_inputs, \n",
    "                                labels: batch_val_labels, \n",
    "                                visit_times: batch_val_visit_times}\n",
    "        test_feed_dict = {inputs: batch_te_inputs, \n",
    "                          labels: batch_te_labels, \n",
    "                          visit_times: batch_te_visit_times}\n",
    "        _, g_step, train_loss, train_lr_ = sess.run([optimizer, global_step, last_loss, lr], feed_dict=train_feed_dict)\n",
    "        val_loss, val_lr_ = sess.run([last_loss, lr], feed_dict=validation_feed_dict)\n",
    "        \n",
    "        if step % printby == 0:\n",
    "            print('step: {} \\tg_step: {} \\tloss: {:.8f}||{:.8f} \\tlr: {:.8f}||{:.8f}'.format(step, g_step, train_loss, val_loss, train_lr_, val_lr_))\n",
    "        \n",
    "        if step == training_step-1:\n",
    "            te_loss = sess.run(last_loss, feed_dict=test_feed_dict)\n",
    "            print('All Done! test_loss is {}'.format(te_loss))"
   ]
  },
  {
   "cell_type": "code",
   "execution_count": null,
   "metadata": {},
   "outputs": [],
   "source": []
  },
  {
   "cell_type": "code",
   "execution_count": null,
   "metadata": {},
   "outputs": [],
   "source": []
  },
  {
   "cell_type": "code",
   "execution_count": null,
   "metadata": {},
   "outputs": [],
   "source": []
  },
  {
   "cell_type": "code",
   "execution_count": null,
   "metadata": {},
   "outputs": [],
   "source": []
  },
  {
   "cell_type": "code",
   "execution_count": null,
   "metadata": {},
   "outputs": [],
   "source": []
  }
 ],
 "metadata": {
  "kernelspec": {
   "display_name": "Python 3",
   "language": "python",
   "name": "python3"
  },
  "language_info": {
   "codemirror_mode": {
    "name": "ipython",
    "version": 3
   },
   "file_extension": ".py",
   "mimetype": "text/x-python",
   "name": "python",
   "nbconvert_exporter": "python",
   "pygments_lexer": "ipython3",
   "version": "3.6.1"
  },
  "notify_time": "5"
 },
 "nbformat": 4,
 "nbformat_minor": 2
}
